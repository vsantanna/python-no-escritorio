{
 "cells": [
  {
   "cell_type": "markdown",
   "metadata": {},
   "source": [
    "# Estruturas básicas de linguagens de programação em Python  (Parte 2)"
   ]
  },
  {
   "cell_type": "markdown",
   "metadata": {},
   "source": [
    "## Estruturas Condicionais"
   ]
  },
  {
   "cell_type": "markdown",
   "metadata": {},
   "source": [
    "Uma Estrutura de Condição, verifica a condição dos argumentos passados e executa um comando caso a condição seja verdadeira. Por exemplo: *Se 100 > 0 então faça ...*\n",
    "\n",
    "Operadores Condicionais são utilizados para fazer as comparações dos valores que são passados e retornam o valor Verdadeiro ou Falso:"
   ]
  },
  {
   "cell_type": "markdown",
   "metadata": {},
   "source": [
    "\n",
    "<table >\n",
    " <tbody>\n",
    "  <tr>\n",
    "  <th>\n",
    "  Operador\n",
    "  </th>\n",
    "  <th>\n",
    "  Tipo\n",
    "  </th>\n",
    "  <th>\n",
    "  Valor\n",
    "  </th>\n",
    " </tr>\n",
    " <tr>\n",
    "  <td>\n",
    "  ==\n",
    "  </td>\n",
    "  <td >\n",
    "  Igualdade\n",
    "  </td>\n",
    "  <td >\n",
    "  Verifica a igualdade entre dois valores.\n",
    "  </td>\n",
    " </tr>\n",
    " <tr>\n",
    "  <td >\n",
    "  !=\n",
    "  <o:p> </o:p>\n",
    "  </td>\n",
    "  <td >\n",
    "  Igualdade\n",
    "  <o:p> </o:p>\n",
    "  </td>\n",
    "  <td >\n",
    "  Verifica a diferença entre dois valores.\n",
    "  </td>\n",
    " </tr>\n",
    " <tr>\n",
    "  <td >\n",
    "  &gt;<o:p> </o:p>\n",
    "  </td>\n",
    "  <td >\n",
    "  Comparação\n",
    "  </td>\n",
    "  <td >\n",
    "  Verificar se o valor A é maior que o valor B.\n",
    "  </td>\n",
    " </tr>\n",
    " <tr>\n",
    "  <td >\n",
    "  &lt;<o:p> </o:p>\n",
    "  </td>\n",
    "  <td >\n",
    "  Comparação\n",
    "  </td>\n",
    "  <td >\n",
    "  Verifica se o valor A é menor que o valor B.\n",
    "  </td>\n",
    " </tr>\n",
    " <tr>\n",
    "  <td >\n",
    "  &gt;=\n",
    "  </td>\n",
    "  <td >\n",
    "  Comparação\n",
    "  </td>\n",
    "  <td >\n",
    "  Verifica se o valor A é maior ou igual ao valor B.\n",
    "  </td>\n",
    " </tr>\n",
    " <tr>\n",
    "  <td >\n",
    "  &lt;=\n",
    "  </td>\n",
    "  <td >\n",
    "  Comparação\n",
    "  </td>\n",
    "  <td >\n",
    "  Verifica se o valor A é menor ou igual ao valor B.\n",
    "  </td>\n",
    " </tr>\n",
    " <tr>\n",
    "  <td >\n",
    "  In\n",
    "  </td>\n",
    "  <td >\n",
    "  Seqüência\n",
    "  </td>\n",
    "  <td >\n",
    "  Verifica se o valor A está contido em um conjunto.\n",
    "  </td>\n",
    " </tr>\n",
    "</tbody>\n",
    "</table>\n"
   ]
  },
  {
   "cell_type": "markdown",
   "metadata": {},
   "source": [
    "**Condicional If**"
   ]
  },
  {
   "cell_type": "code",
   "execution_count": 1,
   "metadata": {},
   "outputs": [
    {
     "name": "stdout",
     "output_type": "stream",
     "text": [
      "Python funciona!\n"
     ]
    }
   ],
   "source": [
    "if 5 > 2:\n",
    "    print(\"Python funciona!\")"
   ]
  },
  {
   "cell_type": "code",
   "execution_count": 2,
   "metadata": {},
   "outputs": [
    {
     "name": "stdout",
     "output_type": "stream",
     "text": [
      "O valor está contido na lista\n"
     ]
    }
   ],
   "source": [
    "L = [1,2,3,4,5]\n",
    "\n",
    "if 3 in L:\n",
    "    print(\"O valor está contido na lista\")"
   ]
  },
  {
   "cell_type": "code",
   "execution_count": 3,
   "metadata": {},
   "outputs": [
    {
     "name": "stdout",
     "output_type": "stream",
     "text": [
      "Valor não encontrado.\n"
     ]
    }
   ],
   "source": [
    "#podemos utilizar a palavra NOT para inverter a lógica\n",
    "L = [1,2,3,4,5]\n",
    "\n",
    "if 'Outro Valor' not in L:\n",
    "    print(\"Valor não encontrado.\")"
   ]
  },
  {
   "cell_type": "markdown",
   "metadata": {},
   "source": [
    "<font color=\"red\">**Importante: O código precisa ser identado, use TAB ou Espaços!!!**</font>"
   ]
  },
  {
   "cell_type": "markdown",
   "metadata": {},
   "source": [
    "<img src=\"https://memegenerator.net/img/instances/29039721/if-you-mix-spaces-and-tabs-in-python-indentation-youre-gonna-have-a-bad-time.jpg\">"
   ]
  },
  {
   "cell_type": "code",
   "execution_count": 5,
   "metadata": {},
   "outputs": [
    {
     "ename": "IndentationError",
     "evalue": "expected an indented block (<ipython-input-5-ba9d4cb5d819>, line 3)",
     "output_type": "error",
     "traceback": [
      "\u001b[0;36m  File \u001b[0;32m\"<ipython-input-5-ba9d4cb5d819>\"\u001b[0;36m, line \u001b[0;32m3\u001b[0m\n\u001b[0;31m    print(\"Isso não vai funcionar!\")\u001b[0m\n\u001b[0m        ^\u001b[0m\n\u001b[0;31mIndentationError\u001b[0m\u001b[0;31m:\u001b[0m expected an indented block\n"
     ]
    }
   ],
   "source": [
    "#Esse código não irá funcionar\n",
    "if 4 > 3:\n",
    "print(\"Isso não vai funcionar!\")"
   ]
  },
  {
   "cell_type": "markdown",
   "metadata": {},
   "source": [
    "**Condicional If...Else**"
   ]
  },
  {
   "cell_type": "code",
   "execution_count": 6,
   "metadata": {},
   "outputs": [
    {
     "name": "stdout",
     "output_type": "stream",
     "text": [
      "Python funciona!\n"
     ]
    }
   ],
   "source": [
    "#O comando else, executa algo caso a condição não seja atingida\n",
    "if 5 < 2:\n",
    "    print(\"Algo está errado!\")\n",
    "else:\n",
    "    print(\"Python funciona!\")"
   ]
  },
  {
   "cell_type": "markdown",
   "metadata": {},
   "source": [
    "**Condicionais aninhados**"
   ]
  },
  {
   "cell_type": "code",
   "execution_count": 7,
   "metadata": {},
   "outputs": [
    {
     "name": "stdout",
     "output_type": "stream",
     "text": [
      "Ok Bob, você está autorizado a entrar!\n"
     ]
    }
   ],
   "source": [
    "nome = \"Bob\"\n",
    "idade = 18\n",
    "\n",
    "if idade > 13:\n",
    "    if nome == \"Bob\":\n",
    "        print(\"Ok Bob, você está autorizado a entrar!\")\n",
    "    else:\n",
    "        print(\"Desculpe, mas você não pode entrar!\")"
   ]
  },
  {
   "cell_type": "code",
   "execution_count": 8,
   "metadata": {},
   "outputs": [
    {
     "name": "stdout",
     "output_type": "stream",
     "text": [
      "Ok Bob, você está autorizado a entrar!\n"
     ]
    }
   ],
   "source": [
    "idade = 12\n",
    "nome = \"Bob\"\n",
    "if (idade >= 13) or (nome == \"Bob\"):\n",
    "    print(\"Ok Bob, você está autorizado a entrar!\")"
   ]
  },
  {
   "cell_type": "markdown",
   "metadata": {},
   "source": [
    "**Elif**"
   ]
  },
  {
   "cell_type": "code",
   "execution_count": 9,
   "metadata": {},
   "outputs": [
    {
     "name": "stdout",
     "output_type": "stream",
     "text": [
      "Hoje vai chover!\n"
     ]
    }
   ],
   "source": [
    "dia = \"Terça\"\n",
    "if dia == \"Segunda\":\n",
    "    print(\"Hoje fará sol!\")\n",
    "else:\n",
    "    print(\"Hoje vai chover!\")"
   ]
  },
  {
   "cell_type": "code",
   "execution_count": 11,
   "metadata": {},
   "outputs": [
    {
     "name": "stdout",
     "output_type": "stream",
     "text": [
      "Hoje vai chover!\n"
     ]
    }
   ],
   "source": [
    "if dia == \"Segunda\":\n",
    "    print(\"Hoje fará sol!\")\n",
    "elif dia == \"Terça\":\n",
    "    print(\"Hoje vai chover!\")\n",
    "elif dia ==\"Quarta\":\n",
    "    print(\"Hoje é dia de feijoada!\")    \n",
    "else:\n",
    "    print(\"Sem previsão para o dia selecionado\")"
   ]
  },
  {
   "cell_type": "markdown",
   "metadata": {},
   "source": [
    "### Exemplo: Aprovação em disciplinas"
   ]
  },
  {
   "cell_type": "code",
   "execution_count": 64,
   "metadata": {},
   "outputs": [
    {
     "name": "stdout",
     "output_type": "stream",
     "text": [
      "Digite o nome da disciplina: Física\n",
      "Digite a nota final (entre 0 e 10): 7\n",
      "Digite sua frequencia na disciplina (0% e 100%): 30%\n",
      "Lamento, você precisa estudar mais e/ou frequentar mais aulas!\n"
     ]
    }
   ],
   "source": [
    "#Coletar inputs\n",
    "disciplina = input('Digite o nome da disciplina: ')\n",
    "nota_final = input('Digite a nota final (entre 0 e 10): ')\n",
    "frequencia = input('Digite sua frequencia na disciplina (0% e 100%): ')\n",
    "\n",
    "#Verifica se a frequencia possui o símbolo do %\n",
    "if frequencia.endswith('%'):\n",
    "    frequencia = frequencia[:-1]\n",
    "\n",
    "#Lista de disciplinas disponíveis\n",
    "disciplinas =['Física','Matemática','Geografia','História','Filosofia']\n",
    "\n",
    "#Verifica aprovação\n",
    "if disciplina in disciplinas:\n",
    "    if (float(nota_final) >= 7) and (float(frequencia)/100 >= 0.75):\n",
    "        print('Você foi aprovado!')\n",
    "    else:\n",
    "        print('Lamento, você precisa estudar mais e/ou frequentar mais aulas!')\n",
    "else:\n",
    "    print('Desculpe, não encontramos a disciplina')"
   ]
  },
  {
   "cell_type": "markdown",
   "metadata": {},
   "source": [
    "## Estruturas de Repetição"
   ]
  },
  {
   "cell_type": "markdown",
   "metadata": {},
   "source": [
    "Como o nome sugere, estruturas de repetição são utilizadas quando você precisa repetir a execução de determinado trecho de código. Existem duas estruturas básicas:"
   ]
  },
  {
   "cell_type": "markdown",
   "metadata": {},
   "source": [
    "**Loop For**"
   ]
  },
  {
   "cell_type": "code",
   "execution_count": 12,
   "metadata": {},
   "outputs": [
    {
     "name": "stdout",
     "output_type": "stream",
     "text": [
      "2\n",
      "3\n",
      "4\n"
     ]
    }
   ],
   "source": [
    "# Criando uma lista e imprimindo cada um dos valores\n",
    "lista = [2,3,4]\n",
    "for i in lista:\n",
    "    print(i)"
   ]
  },
  {
   "cell_type": "code",
   "execution_count": 13,
   "metadata": {},
   "outputs": [
    {
     "data": {
      "text/plain": [
       "[0, 5, 10, 15, 20, 25, 30, 35, 40, 45]"
      ]
     },
     "execution_count": 13,
     "metadata": {},
     "output_type": "execute_result"
    }
   ],
   "source": [
    "#Cria uma lista com base nos valores iniciais, finais e de incremento\n",
    "list(range(0,50,5))"
   ]
  },
  {
   "cell_type": "code",
   "execution_count": 14,
   "metadata": {},
   "outputs": [
    {
     "name": "stdout",
     "output_type": "stream",
     "text": [
      "0\n",
      "1\n",
      "2\n",
      "3\n",
      "4\n"
     ]
    }
   ],
   "source": [
    "# Imprimindo os valores no intervalo entre 0 e 5 (intervalo aberto)\n",
    "for contador in range(0,5):\n",
    "    print(contador)"
   ]
  },
  {
   "cell_type": "code",
   "execution_count": 15,
   "metadata": {},
   "outputs": [
    {
     "name": "stdout",
     "output_type": "stream",
     "text": [
      "Digite o inicio do intervalo: 0\n",
      "Digite o final do intervalo: 10\n",
      "0\n",
      "2\n",
      "4\n",
      "6\n",
      "8\n"
     ]
    }
   ],
   "source": [
    "# Imprimindo na tela os números pares de um dado intervalo\n",
    "inicio = int(input('Digite o inicio do intervalo: '))\n",
    "fim = int(input('Digite o final do intervalo: '))\n",
    "\n",
    "for num in range(inicio,fim):\n",
    "    if num % 2 == 0:\n",
    "        print (num)"
   ]
  },
  {
   "cell_type": "code",
   "execution_count": 16,
   "metadata": {},
   "outputs": [
    {
     "name": "stdout",
     "output_type": "stream",
     "text": [
      "T\n",
      "h\n",
      "e\n",
      "r\n",
      "e\n",
      " \n",
      "i\n",
      "s\n",
      " \n",
      "a\n",
      " \n",
      "d\n",
      "i\n",
      "f\n",
      "f\n",
      "e\n",
      "r\n",
      "e\n",
      "n\n",
      "c\n",
      "e\n",
      " \n",
      "b\n",
      "e\n",
      "t\n",
      "w\n",
      "e\n",
      "e\n",
      "n\n",
      " \n",
      "k\n",
      "n\n",
      "o\n",
      "w\n",
      "i\n",
      "n\n",
      "g\n",
      " \n",
      "t\n",
      "h\n",
      "e\n",
      " \n",
      "p\n",
      "a\n",
      "t\n",
      "h\n",
      " \n",
      "a\n",
      "n\n",
      "d\n",
      " \n",
      "w\n",
      "a\n",
      "l\n",
      "k\n",
      "i\n",
      "n\n",
      "g\n",
      " \n",
      "t\n",
      "h\n",
      "e\n",
      " \n",
      "p\n",
      "a\n",
      "t\n",
      "h\n"
     ]
    }
   ],
   "source": [
    "# Strings também são sequências\n",
    "for caracter in 'There is a difference between knowing the path and walking the path':\n",
    "    print (caracter)"
   ]
  },
  {
   "cell_type": "code",
   "execution_count": 17,
   "metadata": {},
   "outputs": [
    {
     "name": "stdout",
     "output_type": "stream",
     "text": [
      "[1, 2, 3]\n",
      "[10, 15, 14]\n",
      "[10.1, 8.7, 2.3]\n"
     ]
    }
   ],
   "source": [
    "# Loops em lista de listas\n",
    "listas = [[1,2,3], [10,15,14], [10.1,8.7,2.3]]\n",
    "for i in listas:\n",
    "    print(i)"
   ]
  },
  {
   "cell_type": "code",
   "execution_count": 18,
   "metadata": {},
   "outputs": [
    {
     "name": "stdout",
     "output_type": "stream",
     "text": [
      "[1, 10, 10.1]\n"
     ]
    }
   ],
   "source": [
    "# Loops em lista de listas - Colocar o primeiro elemento de cada lista em uma nova lista\n",
    "listas = [[1,2,3], [10,15,14], [10.1,8.7,2.3]]\n",
    "nova_lista = []\n",
    "for l in listas:\n",
    "    nova_lista.append(l[0])\n",
    "print(nova_lista)"
   ]
  },
  {
   "cell_type": "code",
   "execution_count": 19,
   "metadata": {},
   "outputs": [
    {
     "name": "stdout",
     "output_type": "stream",
     "text": [
      "k1\n",
      "Python\n",
      "k2\n",
      "R\n",
      "k3\n",
      "Scala\n"
     ]
    }
   ],
   "source": [
    "# Listando as chaves de um dicionário\n",
    "dict = {'k1':'Python','k2':'R','k3':'Scala'}\n",
    "for item in dict:\n",
    "    print(item)\n",
    "    print(dict[item])"
   ]
  },
  {
   "cell_type": "markdown",
   "metadata": {},
   "source": [
    "**Loop While**"
   ]
  },
  {
   "cell_type": "code",
   "execution_count": 21,
   "metadata": {},
   "outputs": [
    {
     "name": "stdout",
     "output_type": "stream",
     "text": [
      "0\n",
      "1\n",
      "2\n",
      "3\n",
      "4\n",
      "5\n",
      "6\n",
      "7\n",
      "8\n",
      "9\n"
     ]
    }
   ],
   "source": [
    "# Usando o loop while para imprimir os valores de 0 a 9\n",
    "counter = 0\n",
    "while counter < 10:\n",
    "    print(counter)\n",
    "    #Não esqueça é importante ter uma condição de parada!\n",
    "    counter = counter + 1"
   ]
  },
  {
   "cell_type": "code",
   "execution_count": 22,
   "metadata": {},
   "outputs": [
    {
     "name": "stdout",
     "output_type": "stream",
     "text": [
      "O valor de x nesta iteração é:  0\n",
      "O valor de x nesta iteração é:  1\n",
      "O valor de x nesta iteração é:  2\n",
      "O valor de x nesta iteração é:  3\n",
      "O valor de x nesta iteração é:  4\n",
      "O valor de x nesta iteração é:  5\n",
      "O valor de x nesta iteração é:  6\n",
      "O valor de x nesta iteração é:  7\n",
      "O valor de x nesta iteração é:  8\n",
      "O valor de x nesta iteração é:  9\n",
      "Loop concluído!\n"
     ]
    }
   ],
   "source": [
    "# Também é possível usar a claúsula else para encerrar o loop while\n",
    "x = 0\n",
    "\n",
    "while x < 10:\n",
    "    print ('O valor de x nesta iteração é: ', x)\n",
    "    x += 1\n",
    "else:\n",
    "    print ('Loop concluído!')"
   ]
  },
  {
   "cell_type": "markdown",
   "metadata": {},
   "source": [
    "**Podemos utilizar alguns comandos para interromper o fluxo de execução dos loops**"
   ]
  },
  {
   "cell_type": "code",
   "execution_count": 27,
   "metadata": {},
   "outputs": [
    {
     "name": "stdout",
     "output_type": "stream",
     "text": [
      "0\n",
      "1\n",
      "2\n",
      "3\n"
     ]
    }
   ],
   "source": [
    "## PASS e BREAK\n",
    "counter = 0\n",
    "while counter < 100:\n",
    "    if counter == 4:\n",
    "        break\n",
    "    else:\n",
    "        pass #continua o código para a próxima linha de código\n",
    "    \n",
    "    print(counter)\n",
    "    counter = counter + 1"
   ]
  },
  {
   "cell_type": "code",
   "execution_count": 26,
   "metadata": {},
   "outputs": [
    {
     "name": "stdout",
     "output_type": "stream",
     "text": [
      "P\n",
      "y\n",
      "t\n",
      "o\n",
      "n\n"
     ]
    }
   ],
   "source": [
    "for verificador in \"Python\":\n",
    "    if verificador == \"h\":\n",
    "        continue #inicia a próxima volta do loop, ignorando o código restante \n",
    "    print(verificador)"
   ]
  },
  {
   "cell_type": "markdown",
   "metadata": {},
   "source": [
    "### Exemplo: Números Primos"
   ]
  },
  {
   "cell_type": "markdown",
   "metadata": {},
   "source": [
    "Números primos são os números naturais que têm apenas dois divisores diferentes: o 1 e ele mesmo. Vamos tentar encontrar quais são os números primos dentro de um intervalo de 1 a um número qualquer:"
   ]
  },
  {
   "cell_type": "code",
   "execution_count": 28,
   "metadata": {},
   "outputs": [
    {
     "name": "stdout",
     "output_type": "stream",
     "text": [
      "Digite o final do intervalo: 10\n",
      "2 é um número primo\n",
      "3 é um número primo\n",
      "5 é um número primo\n",
      "7 é um número primo\n"
     ]
    }
   ],
   "source": [
    "#Inicio e fim do intervalo\n",
    "fim = int(input('Digite o final do intervalo: '))\n",
    "\n",
    "#Loop que percorre cada número do intervalo\n",
    "for i in range(2,fim):\n",
    "    #primeiro número primo\n",
    "    j = 2\n",
    "    #flag para auxiliar a marcar os números primos\n",
    "    counter = 0\n",
    "    \n",
    "    #loop para verificar a existencia de um divisor para o número i\n",
    "    while j < i:\n",
    "        #se houver um divisor para i, marca a flag como 1 e continua a execução\n",
    "        if i % j == 0:\n",
    "            counter = 1\n",
    "        #verifica i até o próximo número j\n",
    "        j = j + 1\n",
    "    \n",
    "    #se a flag for 0, encontramos um número primo, caso contrário, segue para o próximo número.\n",
    "    if counter == 0:\n",
    "        print(str(i) + \" é um número primo\")\n",
    "        counter = 0\n",
    "    else:\n",
    "        counter = 0"
   ]
  },
  {
   "cell_type": "markdown",
   "metadata": {},
   "source": [
    "## Funções"
   ]
  },
  {
   "cell_type": "markdown",
   "metadata": {},
   "source": [
    "Em Python, uma função é uma sequência de comandos que executa alguma tarefa e que tem um nome. A sua principal finalidade é nos ajudar a organizar programas em pedaços que correspondam a uma parte da solução do problema.\n",
    "\n",
    "É uma boa prática quebrar o código em pequenos problemas, dessa forma fica mais fácil encontrarmos erros. Além de tornar o código mais reaproveitável. \n",
    "\n",
    "**Sintaxe Básica**\n",
    "\n",
    "def NOME( PARÂMETROS ):<br>\n",
    "    &emsp; COMANDOS\n",
    "    \n",
    "Assim como as variáveis, você pode atribuir a sua função nomes que não sejam palavras especiais do Python. Vamos ver alguns exemplos e entender como funcionam os parâmetros das funções"
   ]
  },
  {
   "cell_type": "code",
   "execution_count": 29,
   "metadata": {},
   "outputs": [],
   "source": [
    "# Definindo uma função\n",
    "def primeiraFuncao():\n",
    "    print('Hello World')"
   ]
  },
  {
   "cell_type": "code",
   "execution_count": 30,
   "metadata": {},
   "outputs": [
    {
     "name": "stdout",
     "output_type": "stream",
     "text": [
      "Hello World\n"
     ]
    }
   ],
   "source": [
    "primeiraFuncao()"
   ]
  },
  {
   "cell_type": "code",
   "execution_count": 31,
   "metadata": {},
   "outputs": [],
   "source": [
    "def ola_pessoa(nome):\n",
    "    print('Hello %s' %(nome))"
   ]
  },
  {
   "cell_type": "code",
   "execution_count": 32,
   "metadata": {},
   "outputs": [
    {
     "name": "stdout",
     "output_type": "stream",
     "text": [
      "Hello Guido van Rossum\n"
     ]
    }
   ],
   "source": [
    "ola_pessoa('Guido van Rossum')"
   ]
  },
  {
   "cell_type": "code",
   "execution_count": 33,
   "metadata": {},
   "outputs": [],
   "source": [
    "# Função para somar números\n",
    "def addNum(firstnum, secondnum):\n",
    "    print(\"Primeiro número: \" + str(firstnum))\n",
    "    print(\"Segundo número: \" + str(secondnum))\n",
    "    print(\"Soma: \", firstnum + secondnum)"
   ]
  },
  {
   "cell_type": "code",
   "execution_count": 34,
   "metadata": {},
   "outputs": [
    {
     "name": "stdout",
     "output_type": "stream",
     "text": [
      "Primeiro número: 10\n",
      "Segundo número: 5\n",
      "Soma:  15\n"
     ]
    }
   ],
   "source": [
    "addNum(10,5)"
   ]
  },
  {
   "cell_type": "markdown",
   "metadata": {},
   "source": [
    "Até agora, todas as variaveis que utilizamos nos exemplos estavam no contexto do notebook (global). Quando lidamos com funções, as variaveis criadas dentro de funções passam a ter contexto local. Isso significa que qualquer função pode acessar qualquer variável global externa, mas não podemos acessar uma variavel criada dentro de uma função do lado de fora da função."
   ]
  },
  {
   "cell_type": "code",
   "execution_count": 36,
   "metadata": {},
   "outputs": [
    {
     "name": "stdout",
     "output_type": "stream",
     "text": [
      "12\n",
      "10\n"
     ]
    },
    {
     "ename": "NameError",
     "evalue": "name 'var_local' is not defined",
     "output_type": "error",
     "traceback": [
      "\u001b[0;31m---------------------------------------------------------------------------\u001b[0m",
      "\u001b[0;31mNameError\u001b[0m                                 Traceback (most recent call last)",
      "\u001b[0;32m<ipython-input-36-f5642abc03a5>\u001b[0m in \u001b[0;36m<module>\u001b[0;34m()\u001b[0m\n\u001b[1;32m      8\u001b[0m \u001b[0mmultiply\u001b[0m\u001b[0;34m(\u001b[0m\u001b[0;36m2\u001b[0m\u001b[0;34m,\u001b[0m\u001b[0;36m6\u001b[0m\u001b[0;34m)\u001b[0m\u001b[0;34m\u001b[0m\u001b[0m\n\u001b[1;32m      9\u001b[0m \u001b[0;34m\u001b[0m\u001b[0m\n\u001b[0;32m---> 10\u001b[0;31m \u001b[0mprint\u001b[0m\u001b[0;34m(\u001b[0m\u001b[0mvar_local\u001b[0m\u001b[0;34m)\u001b[0m \u001b[0;31m#Você não pode chamar uma variável que não existe no contexto\u001b[0m\u001b[0;34m\u001b[0m\u001b[0m\n\u001b[0m",
      "\u001b[0;31mNameError\u001b[0m: name 'var_local' is not defined"
     ]
    }
   ],
   "source": [
    "var_global = 10  # Esta é uma variável global\n",
    "\n",
    "def multiply(num1, num2):\n",
    "    var_local = num1 * num2  # Esta é uma variável local\n",
    "    print(var_local)\n",
    "    print(var_global)\n",
    "    \n",
    "multiply(2,6)\n",
    "\n",
    "print(var_local) #Você não pode chamar uma variável que não existe no contexto"
   ]
  },
  {
   "cell_type": "code",
   "execution_count": 37,
   "metadata": {},
   "outputs": [
    {
     "name": "stdout",
     "output_type": "stream",
     "text": [
      "12\n",
      "10\n"
     ]
    }
   ],
   "source": [
    "var_global = 10  # Esta é uma variável global\n",
    "\n",
    "def multiply(num1, num2):\n",
    "    var_global = num1 * num2  # Esta é uma variável local\n",
    "    print(var_global)\n",
    "    \n",
    "multiply(2,6)\n",
    "\n",
    "print(var_global)"
   ]
  },
  {
   "cell_type": "markdown",
   "metadata": {},
   "source": [
    "Para recuperar o valor gerado na função, podemos utilizar o comando *return()*"
   ]
  },
  {
   "cell_type": "code",
   "execution_count": 38,
   "metadata": {},
   "outputs": [
    {
     "name": "stdout",
     "output_type": "stream",
     "text": [
      "12\n",
      "12\n"
     ]
    }
   ],
   "source": [
    "var_global = 10  # Esta é uma variável global\n",
    "\n",
    "def multiply(num1, num2,):\n",
    "    var_global = num1 * num2  # Esta é uma variável local\n",
    "    print(var_global)\n",
    "    return(var_global)\n",
    "\n",
    "var_global = multiply(2,6)\n",
    "\n",
    "print(var_global)"
   ]
  },
  {
   "cell_type": "markdown",
   "metadata": {},
   "source": [
    "**Funções Lambda**\n",
    "\n",
    "Funções lambda nada mais são do que funções anônimas. Enquanto funções normais podem ser criada utilizando def como prefixo, as funções lambda são criadas utilizando lambda\n",
    "\n",
    "Sintaxe: lambda argumento_1, …aurgumento_n: expressão"
   ]
  },
  {
   "cell_type": "code",
   "execution_count": 39,
   "metadata": {},
   "outputs": [
    {
     "data": {
      "text/plain": [
       "25"
      ]
     },
     "execution_count": 39,
     "metadata": {},
     "output_type": "execute_result"
    }
   ],
   "source": [
    "# Definindo uma função - 3 linhas de código\n",
    "def potencia(num):\n",
    "    result = num**2\n",
    "    return result\n",
    "potencia(5)"
   ]
  },
  {
   "cell_type": "code",
   "execution_count": 40,
   "metadata": {},
   "outputs": [
    {
     "data": {
      "text/plain": [
       "25"
      ]
     },
     "execution_count": 40,
     "metadata": {},
     "output_type": "execute_result"
    }
   ],
   "source": [
    "# Definindo uma função - 2 linhas de código\n",
    "def potencia(num):\n",
    "    return num**2\n",
    "potencia(5)"
   ]
  },
  {
   "cell_type": "code",
   "execution_count": 41,
   "metadata": {},
   "outputs": [
    {
     "data": {
      "text/plain": [
       "25"
      ]
     },
     "execution_count": 41,
     "metadata": {},
     "output_type": "execute_result"
    }
   ],
   "source": [
    "# Definindo uma expressão lambda\n",
    "potencia = lambda num: num**2\n",
    "potencia(5)"
   ]
  },
  {
   "cell_type": "code",
   "execution_count": 42,
   "metadata": {},
   "outputs": [
    {
     "data": {
      "text/plain": [
       "8"
      ]
     },
     "execution_count": 42,
     "metadata": {},
     "output_type": "execute_result"
    }
   ],
   "source": [
    "addNum = lambda x,y : x+y\n",
    "addNum(5,3)"
   ]
  },
  {
   "cell_type": "markdown",
   "metadata": {},
   "source": [
    "**Funções Map**"
   ]
  },
  {
   "cell_type": "markdown",
   "metadata": {},
   "source": [
    "map() é uma função builtin de Python, isto é, uma função que é implementada diretamente no interpretador Python. Essa função, em Python, serve para aplicarmos uma função a cada elemento de uma lista, retornando uma nova lista contendo os elementos resultantes da aplicação da função. Considere o exemplo abaixo:"
   ]
  },
  {
   "cell_type": "code",
   "execution_count": 43,
   "metadata": {},
   "outputs": [
    {
     "data": {
      "text/plain": [
       "[1, 16, 81, 256, 625]"
      ]
     },
     "execution_count": 43,
     "metadata": {},
     "output_type": "execute_result"
    }
   ],
   "source": [
    "lista1 = [1, 4, 9, 16, 25]\n",
    "lista2 = map(lambda x: x**2,lista1)\n",
    "list(lista2)"
   ]
  },
  {
   "cell_type": "markdown",
   "metadata": {},
   "source": [
    "**List comprehensions** \n",
    "\n",
    "Outra forma de fazer a mesma operação que fizemos com o map é utilizando a estrutura de List comprehensions: [ expression for item in list if conditional ]"
   ]
  },
  {
   "cell_type": "code",
   "execution_count": 44,
   "metadata": {},
   "outputs": [],
   "source": [
    "a = [x**2 for x in lista1]"
   ]
  },
  {
   "cell_type": "code",
   "execution_count": 45,
   "metadata": {},
   "outputs": [
    {
     "data": {
      "text/plain": [
       "[1, 16, 256, 625]"
      ]
     },
     "execution_count": 45,
     "metadata": {},
     "output_type": "execute_result"
    }
   ],
   "source": [
    "#Filtrando apenas valores > 9 \n",
    "[x for x in a if x != 81]"
   ]
  },
  {
   "cell_type": "code",
   "execution_count": 46,
   "metadata": {},
   "outputs": [
    {
     "data": {
      "text/plain": [
       "[(1, 2), (1, 7), (2, 7), (3, 2), (3, 7)]"
      ]
     },
     "execution_count": 46,
     "metadata": {},
     "output_type": "execute_result"
    }
   ],
   "source": [
    "#Um exemplo um pouco mais complexo: Combinando valores de duas listas caso eles sejam diferentes \n",
    "list_a = [1, 2, 3]\n",
    "list_b = [2, 7]\n",
    "\n",
    "different_num = [(a, b) for a in list_a for b in list_b if a != b]\n",
    "different_num"
   ]
  },
  {
   "cell_type": "markdown",
   "metadata": {},
   "source": [
    " "
   ]
  },
  {
   "cell_type": "markdown",
   "metadata": {},
   "source": [
    " "
   ]
  },
  {
   "cell_type": "markdown",
   "metadata": {},
   "source": [
    "<img src=\"https://pvsmt99345.i.lithium.com/t5/image/serverpage/image-id/41242i1D8397BD21B07DA8?v=1.0\">"
   ]
  },
  {
   "cell_type": "markdown",
   "metadata": {},
   "source": [
    "## Exercicíos de algorítimos"
   ]
  },
  {
   "cell_type": "markdown",
   "metadata": {},
   "source": [
    "<img src=\"https://memegenerator.net/img/instances/80533131/happy-coding.jpg\"  width=\"50%\" height=\"50%\">"
   ]
  },
  {
   "cell_type": "markdown",
   "metadata": {},
   "source": [
    "**Exercício 0** - Crie uma função que recebe um número X e imprime o seguinte padrão iniciando em 1 e terminando em X \n",
    "\n",
    "1 <br>\n",
    "2 2 <br>\n",
    "3 3 3 <br>\n",
    "4 4 4 4 <br>\n",
    "5 5 5 5 5<br>"
   ]
  },
  {
   "cell_type": "code",
   "execution_count": null,
   "metadata": {},
   "outputs": [],
   "source": []
  },
  {
   "cell_type": "markdown",
   "metadata": {},
   "source": [
    "**Exercício 1** - Escreva um programa que receba uma string e retorne a string reversa.\n",
    "<br><br>\n",
    "String entrada : \"1234abcd\"<br>\n",
    "String de saída : \"dcba4321\""
   ]
  },
  {
   "cell_type": "code",
   "execution_count": null,
   "metadata": {},
   "outputs": [],
   "source": []
  },
  {
   "cell_type": "markdown",
   "metadata": {},
   "source": [
    "**Exercício 2** - Crie uma função que imprima a sequência de números pares entre 1 e 20 (a função não recebe parâmetro) e depois faça uma chamada à função para listar os números"
   ]
  },
  {
   "cell_type": "code",
   "execution_count": null,
   "metadata": {},
   "outputs": [],
   "source": []
  },
  {
   "cell_type": "markdown",
   "metadata": {},
   "source": [
    "**Exercício 3** - Crie uam função que receba uma string como argumento e retorne a mesma string em letras maiúsculas. Faça uma chamada à função, passando como parâmetro uma string"
   ]
  },
  {
   "cell_type": "code",
   "execution_count": null,
   "metadata": {},
   "outputs": [],
   "source": []
  },
  {
   "cell_type": "markdown",
   "metadata": {},
   "source": [
    "**Exercício 4** - Crie uma função que receba como parâmetro uma lista de 4 elementos, adicione 2 elementos a lista e imprima a lista"
   ]
  },
  {
   "cell_type": "code",
   "execution_count": null,
   "metadata": {},
   "outputs": [],
   "source": []
  },
  {
   "cell_type": "markdown",
   "metadata": {},
   "source": [
    "**Exercício 5** - Abaixo você encontra uma lista com temperaturas em graus Celsius. Crie uma função lambda que converta cada temperatura para Fahrenheit (Dica:  (0 °C × 9/5) + 32 = 32 °F)"
   ]
  },
  {
   "cell_type": "code",
   "execution_count": null,
   "metadata": {},
   "outputs": [],
   "source": [
    "Celsius = [39.2, 36.5, 37.3, 37.8]\n",
    "Fahrenheit = map(coloque_aqui_sua_função_lambda)\n",
    "print (list(Fahrenheit))"
   ]
  },
  {
   "cell_type": "markdown",
   "metadata": {},
   "source": [
    "**Exercício 6** Verificação de CPF :Desenvolva um programa que solicite a digitação de um número de CPF no formato xxx.xxx.xxx-xx e indique se é um número válido ou inválido através da validação dos dígitos verificadores e dos caracteres de formatação."
   ]
  },
  {
   "cell_type": "code",
   "execution_count": null,
   "metadata": {},
   "outputs": [],
   "source": []
  },
  {
   "cell_type": "markdown",
   "metadata": {},
   "source": [
    "**Exercício 8** - Construa uma função que receba um número *n* como parâmetro e retorne o fatorial deste número. (Lembre-se: n! = n . (n – 1) . (n – 2) . (n – 3)!)"
   ]
  },
  {
   "cell_type": "code",
   "execution_count": null,
   "metadata": {},
   "outputs": [],
   "source": []
  },
  {
   "cell_type": "markdown",
   "metadata": {},
   "source": [
    "**Exercício 9** - Elaborar um programa que efetue o cálculo e no final apresente o somatório do número de grãos de trigo que se pode obter num tabuleiro de xadrez, obedecendo à seguinte regra: colocar um grão de trigo no primeiro quadro e nos quadros seguintes o dobro do quadro anterior. Ou seja, no primeiro quadro coloca-se 1 grão, no segundo quadro colocam-se 2 grãos (neste momento têm-se 3 grãos), no terceiro quadro colocam-se 4 grãos (tendo neste momento 7 grãos), no quarto colocam-se 8 grãos (tendo-se então 15 grãos) até atingir o sexagésimo quarto (64°) quadro. Utilize variáveis do tipo real como acumuladores."
   ]
  },
  {
   "cell_type": "code",
   "execution_count": null,
   "metadata": {},
   "outputs": [],
   "source": []
  },
  {
   "cell_type": "markdown",
   "metadata": {},
   "source": [
    "**Exercício 10** - Escreva uma função que recebe uma lista e retorna uma lista que contém todos os elementos menos os elementos duplicados"
   ]
  },
  {
   "cell_type": "code",
   "execution_count": null,
   "metadata": {},
   "outputs": [],
   "source": []
  },
  {
   "cell_type": "markdown",
   "metadata": {},
   "source": [
    "**Exercício 11** - Contrua uma função que receba uma lista composta de números inteiros e retorne uma lista ordenada de números em ordem crescente. Obs: Contrua todas as etapas da função, não vale usar os comandos nativos do python para ordenação."
   ]
  },
  {
   "cell_type": "code",
   "execution_count": null,
   "metadata": {},
   "outputs": [],
   "source": []
  },
  {
   "cell_type": "markdown",
   "metadata": {},
   "source": [
    "**Exercício 12** - Dada uma lista L de números inteiros e ordenada de forma crescente, escreva uma função que receba L e um número inteiro X e retorne True caso exista pelo menos uma forma de encontrar o número X através de dois elementos da lista L.\n",
    "\n",
    "Exemplo:<br>\n",
    "Para: L = [1, ,4 ,7 ,9, 12, 23, 34, 56,72]<br>\n",
    "Para: x = 21<br>\n",
    "Retorne: True<br>"
   ]
  },
  {
   "cell_type": "code",
   "execution_count": null,
   "metadata": {},
   "outputs": [],
   "source": []
  }
 ],
 "metadata": {
  "kernelspec": {
   "display_name": "conda_python3",
   "language": "python",
   "name": "conda_python3"
  },
  "language_info": {
   "codemirror_mode": {
    "name": "ipython",
    "version": 3
   },
   "file_extension": ".py",
   "mimetype": "text/x-python",
   "name": "python",
   "nbconvert_exporter": "python",
   "pygments_lexer": "ipython3",
   "version": "3.6.5"
  }
 },
 "nbformat": 4,
 "nbformat_minor": 2
}
