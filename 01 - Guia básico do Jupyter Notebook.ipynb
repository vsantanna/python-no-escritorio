{
 "cells": [
  {
   "cell_type": "markdown",
   "metadata": {
    "slideshow": {
     "slide_type": "-"
    }
   },
   "source": [
    "# Guia básico do Jupyter Notebook"
   ]
  },
  {
   "cell_type": "markdown",
   "metadata": {},
   "source": [
    "### O que é ?\n",
    "\n",
    "O notebook é uma aplicação web que permite que você combine texto explicativo, equações matemáticas, código e visualizações em um único documento compartilhável. Por exemplo,a <a href=\"https://www.gw-openscience.org/s/events/GW150914/GW150914_tutorial.html\"> análise de ondas gravitacionais vindas de dois buracos negros colidindo, detectadas pelo experimento LIGO.</a> Você pode baixar os dados, rodar o código do notebook e repetir a análise, ou seja, detectar você mesmo as ondas gravitacionais!\n",
    "\n",
    "<img src=\"http://arogozhnikov.github.io/images/jupyter/example-notebook.png\" width=\"80%\" height=\"80%\">"
   ]
  },
  {
   "cell_type": "markdown",
   "metadata": {},
   "source": [
    "### Células"
   ]
  },
  {
   "cell_type": "markdown",
   "metadata": {},
   "source": [
    "O conteúdo do Notebook é diposto em células, existen dois tipos, texto e Código.\n",
    "\n",
    "Para RODAR uma célula você pode clicar no botão RUN na barra de ferramentas, utilizar o atalho CTRL+ENTER ou SHIFT+ENTER caso queira rodar uma célula e criar outra em seguida. Tente nas células a seguir:"
   ]
  },
  {
   "cell_type": "markdown",
   "metadata": {},
   "source": [
    "TEXTO"
   ]
  },
  {
   "cell_type": "code",
   "execution_count": 1,
   "metadata": {},
   "outputs": [
    {
     "data": {
      "text/plain": [
       "1"
      ]
     },
     "execution_count": 1,
     "metadata": {},
     "output_type": "execute_result"
    }
   ],
   "source": [
    "#Código\n",
    "1"
   ]
  },
  {
   "cell_type": "markdown",
   "metadata": {},
   "source": [
    "Para EDITAR uma célular você pode clicar suas vezes, ou apenas aperar enter na célula selecionada."
   ]
  },
  {
   "cell_type": "markdown",
   "metadata": {},
   "source": [
    "*Edite esse texto!*"
   ]
  },
  {
   "cell_type": "markdown",
   "metadata": {},
   "source": [
    "### Formação de textos "
   ]
  },
  {
   "cell_type": "markdown",
   "metadata": {},
   "source": [
    "# Cabeçalho 1\n",
    "## Cabeçalho 2\n",
    "### Cabeçalho 3\n",
    "##### Cabeçalho 4\n",
    "\n",
    "*Texto em itálico*\n",
    "\n",
    "**Texto em negrito**\n",
    "\n",
    "***Texto em itálico e negrito***\n"
   ]
  },
  {
   "cell_type": "markdown",
   "metadata": {},
   "source": [
    "##  Manual do usuário\n",
    "https://athena.brynmawr.edu/jupyter/hub/dblank/public/Jupyter%20Notebook%20Users%20Manual.ipynb"
   ]
  }
 ],
 "metadata": {
  "kernelspec": {
   "display_name": "conda_python3",
   "language": "python",
   "name": "conda_python3"
  },
  "language_info": {
   "codemirror_mode": {
    "name": "ipython",
    "version": 3
   },
   "file_extension": ".py",
   "mimetype": "text/x-python",
   "name": "python",
   "nbconvert_exporter": "python",
   "pygments_lexer": "ipython3",
   "version": "3.6.5"
  }
 },
 "nbformat": 4,
 "nbformat_minor": 2
}
